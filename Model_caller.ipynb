{
 "cells": [
  {
   "cell_type": "code",
   "execution_count": 8,
   "id": "981ecf10-5ee8-4df5-bd5b-9e4446f54f5c",
   "metadata": {},
   "outputs": [
    {
     "name": "stdout",
     "output_type": "stream",
     "text": [
      "Response status 200, prediction -2470.089340473465\n",
      "Response status 200, prediction 850.9164827214636\n",
      "Response status 200, prediction 3146.9546558507627\n",
      "Response status 200, prediction 2045.1161514372502\n",
      "Response status 200, prediction 1769.9716009282592\n",
      "Response status 200, prediction 2508.509472736195\n",
      "Response status 200, prediction 868.3259891743082\n",
      "Response status 200, prediction -2953.0390110882745\n",
      "Response status 200, prediction 367.9668121203913\n",
      "Response status 200, prediction 2664.0049852341995\n",
      "Response status 200, prediction 1562.1664807741317\n",
      "Response status 200, prediction 1287.021930312154\n",
      "Response status 200, prediction 2025.559802075904\n",
      "Response status 200, prediction 385.376318556795\n",
      "Response status 200, prediction -3435.9886817036922\n",
      "Response status 200, prediction -114.98285849162494\n",
      "Response status 200, prediction 2181.0553146176367\n",
      "Response status 200, prediction 1079.2168101682987\n",
      "Response status 200, prediction 804.0722596991213\n",
      "Response status 200, prediction 1542.6101314628881\n",
      "Response status 200, prediction -97.57335206159769\n",
      "Response status 200, prediction -3918.9383523607794\n",
      "Response status 200, prediction -597.9325291190594\n",
      "Response status 200, prediction 1698.1056439640943\n",
      "Response status 200, prediction 596.267139551414\n",
      "Response status 200, prediction 321.1225890915666\n",
      "Response status 200, prediction 1059.66046084768\n",
      "Response status 200, prediction -580.5230227211191\n",
      "Response status 200, prediction -4401.888022974976\n"
     ]
    }
   ],
   "source": [
    "import requests\n",
    "\n",
    "for day in range(1,30):\n",
    "    # Copy and paste the python sample code for your model to replace below\n",
    "    # In particular, the model URL and Auth token will be unique to each model\n",
    "    response = requests.post(\"https://rev.workshop.domino.tech:443/models/626f450afd3c4446ef10fd0f/latest/model\",\n",
    "        auth=(\n",
    "            \"kMqcQPFmagu30VtHBnyTLWpUkqOszwO0g0XN9ZAkpO38RCoKDfr6o40XveOyehFD\",\n",
    "            \"kMqcQPFmagu30VtHBnyTLWpUkqOszwO0g0XN9ZAkpO38RCoKDfr6o40XveOyehFD\"\n",
    "        ),\n",
    "        json={\n",
    "            \"data\": {\"year\": 2022, \"month\": 5, \"day\": day}\n",
    "        }\n",
    "    )\n",
    "    print(f\"Response status {response.status_code}, prediction {response.json()['result']}\")"
   ]
  },
  {
   "cell_type": "code",
   "execution_count": null,
   "id": "5d4861d0-c02e-498d-b598-58814e20b5c7",
   "metadata": {},
   "outputs": [],
   "source": []
  }
 ],
 "metadata": {
  "kernelspec": {
   "display_name": "Python 3 (ipykernel)",
   "language": "python",
   "name": "python3"
  },
  "language_info": {
   "codemirror_mode": {
    "name": "ipython",
    "version": 3
   },
   "file_extension": ".py",
   "mimetype": "text/x-python",
   "name": "python",
   "nbconvert_exporter": "python",
   "pygments_lexer": "ipython3",
   "version": "3.8.12"
  }
 },
 "nbformat": 4,
 "nbformat_minor": 5
}
